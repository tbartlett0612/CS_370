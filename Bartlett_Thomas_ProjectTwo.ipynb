{
 "cells": [
  {
   "cell_type": "markdown",
   "metadata": {},
   "source": [
    "# Treasure Hunt Game Notebook\n",
    "\n",
    "## Read and Review Your Starter Code\n",
    "The theme of this project is a popular treasure hunt game in which the player needs to find the treasure before the pirate does. While you will not be developing the entire game, you will write the part of the game that represents the intelligent agent, which is a pirate in this case. The pirate will try to find the optimal path to the treasure using deep Q-learning. \n",
    "\n",
    "You have been provided with two Python classes and this notebook to help you with this assignment. The first class, TreasureMaze.py, represents the environment, which includes a maze object defined as a matrix. The second class, GameExperience.py, stores the episodes – that is, all the states that come in between the initial state and the terminal state. This is later used by the agent for learning by experience, called \"exploration\". This notebook shows how to play a game. Your task is to complete the deep Q-learning implementation for which a skeleton implementation has been provided. The code blocks you will need to complete has #TODO as a header.\n",
    "\n",
    "First, read and review the next few code and instruction blocks to understand the code that you have been given."
   ]
  },
  {
   "cell_type": "code",
   "execution_count": 1,
   "metadata": {},
   "outputs": [
    {
     "name": "stderr",
     "output_type": "stream",
     "text": [
      "Using TensorFlow backend.\n"
     ]
    }
   ],
   "source": [
    "from __future__ import print_function\n",
    "import os, sys, time, datetime, json, random\n",
    "import numpy as np\n",
    "from keras.models import Sequential\n",
    "from keras.layers.core import Dense, Activation\n",
    "from keras.optimizers import SGD , Adam, RMSprop\n",
    "from keras.layers.advanced_activations import PReLU\n",
    "import matplotlib.pyplot as plt\n",
    "from TreasureMaze import TreasureMaze\n",
    "from GameExperience import GameExperience\n",
    "%matplotlib inline"
   ]
  },
  {
   "cell_type": "markdown",
   "metadata": {},
   "source": [
    "The following code block contains an 8x8 matrix that will be used as a maze object:"
   ]
  },
  {
   "cell_type": "code",
   "execution_count": 2,
   "metadata": {},
   "outputs": [],
   "source": [
    "maze = np.array([\n",
    "    [ 1.,  0.,  1.,  1.,  1.,  1.,  1.,  1.],\n",
    "    [ 1.,  0.,  1.,  1.,  1.,  0.,  1.,  1.],\n",
    "    [ 1.,  1.,  1.,  1.,  0.,  1.,  0.,  1.],\n",
    "    [ 1.,  1.,  1.,  0.,  1.,  1.,  1.,  1.],\n",
    "    [ 1.,  1.,  0.,  1.,  1.,  1.,  1.,  1.],\n",
    "    [ 1.,  1.,  1.,  0.,  1.,  0.,  0.,  0.],\n",
    "    [ 1.,  1.,  1.,  0.,  1.,  1.,  1.,  1.],\n",
    "    [ 1.,  1.,  1.,  1.,  0.,  1.,  1.,  1.]\n",
    "])"
   ]
  },
  {
   "cell_type": "markdown",
   "metadata": {},
   "source": [
    "This helper function allows a visual representation of the maze object:"
   ]
  },
  {
   "cell_type": "code",
   "execution_count": 3,
   "metadata": {},
   "outputs": [],
   "source": [
    "def show(qmaze):\n",
    "    plt.grid('on')\n",
    "    nrows, ncols = qmaze.maze.shape\n",
    "    ax = plt.gca()\n",
    "    ax.set_xticks(np.arange(0.5, nrows, 1))\n",
    "    ax.set_yticks(np.arange(0.5, ncols, 1))\n",
    "    ax.set_xticklabels([])\n",
    "    ax.set_yticklabels([])\n",
    "    canvas = np.copy(qmaze.maze)\n",
    "    for row,col in qmaze.visited:\n",
    "        canvas[row,col] = 0.6\n",
    "    pirate_row, pirate_col, _ = qmaze.state\n",
    "    canvas[pirate_row, pirate_col] = 0.3   # pirate cell\n",
    "    canvas[nrows-1, ncols-1] = 0.9 # treasure cell\n",
    "    img = plt.imshow(canvas, interpolation='none', cmap='gray')\n",
    "    return img"
   ]
  },
  {
   "cell_type": "markdown",
   "metadata": {},
   "source": [
    "The pirate agent can move in four directions: left, right, up, and down. \n",
    "\n",
    "While the agent primarily learns by experience through exploitation, often, the agent can choose to explore the environment to find previously undiscovered paths. This is called \"exploration\" and is defined by epsilon. This value is typically a lower value such as 0.1, which means for every ten attempts, the agent will attempt to learn by experience nine times and will randomly explore a new path one time. You are encouraged to try various values for the exploration factor and see how the algorithm performs."
   ]
  },
  {
   "cell_type": "code",
   "execution_count": 4,
   "metadata": {},
   "outputs": [],
   "source": [
    "LEFT = 0\n",
    "UP = 1\n",
    "RIGHT = 2\n",
    "DOWN = 3\n",
    "\n",
    "\n",
    "# Exploration factor\n",
    "epsilon = 0.2\n",
    "\n",
    "# Actions dictionary\n",
    "actions_dict = {\n",
    "    LEFT: 'left',\n",
    "    UP: 'up',\n",
    "    RIGHT: 'right',\n",
    "    DOWN: 'down',\n",
    "}\n",
    "\n",
    "num_actions = len(actions_dict)\n"
   ]
  },
  {
   "cell_type": "markdown",
   "metadata": {},
   "source": [
    "The sample code block and output below show creating a maze object and performing one action (DOWN), which returns the reward. The resulting updated environment is visualized."
   ]
  },
  {
   "cell_type": "code",
   "execution_count": 5,
   "metadata": {},
   "outputs": [
    {
     "name": "stdout",
     "output_type": "stream",
     "text": [
      "reward= -0.04\n"
     ]
    },
    {
     "data": {
      "text/plain": [
       "<matplotlib.image.AxesImage at 0x27dde4ba0c8>"
      ]
     },
     "execution_count": 5,
     "metadata": {},
     "output_type": "execute_result"
    },
    {
     "data": {
      "image/png": "[encoded data removed]",
      "text/plain": [
       "<Figure size 432x288 with 1 Axes>"
      ]
     },
     "metadata": {
      "needs_background": "light"
     },
     "output_type": "display_data"
    }
   ],
   "source": [
    "qmaze = TreasureMaze(maze)\n",
    "canvas, reward, game_over = qmaze.act(DOWN)\n",
    "print(\"reward=\", reward)\n",
    "show(qmaze)"
   ]
  },
  {
   "cell_type": "markdown",
   "metadata": {},
   "source": [
    "This function simulates a full game based on the provided trained model. The other parameters include the TreasureMaze object and the starting position of the pirate."
   ]
  },
  {
   "cell_type": "code",
   "execution_count": 6,
   "metadata": {},
   "outputs": [],
   "source": [
    "def play_game(model, qmaze, pirate_cell):\n",
    "    qmaze.reset(pirate_cell)\n",
    "    envstate = qmaze.observe()\n",
    "    while True:\n",
    "        prev_envstate = envstate\n",
    "        # get next action\n",
    "        q = model.predict(prev_envstate)\n",
    "        action = np.argmax(q[0])\n",
    "\n",
    "        # apply action, get rewards and new state\n",
    "        envstate, reward, game_status = qmaze.act(action)\n",
    "        if game_status == 'win':\n",
    "            return True\n",
    "        elif game_status == 'lose':\n",
    "            return False"
   ]
  },
  {
   "cell_type": "markdown",
   "metadata": {},
   "source": [
    "This function helps you to determine whether the pirate can win any game at all. If your maze is not well designed, the pirate may not win any game at all. In this case, your training would not yield any result. The provided maze in this notebook ensures that there is a path to win and you can run this method to check."
   ]
  },
  {
   "cell_type": "code",
   "execution_count": 7,
   "metadata": {},
   "outputs": [],
   "source": [
    "def completion_check(model, qmaze):\n",
    "    for cell in qmaze.free_cells:\n",
    "        if not qmaze.valid_actions(cell):\n",
    "            return False\n",
    "        if not play_game(model, qmaze, cell):\n",
    "            return False\n",
    "    return True"
   ]
  },
  {
   "cell_type": "markdown",
   "metadata": {},
   "source": [
    "The code you have been given in this block will build the neural network model. Review the code and note the number of layers, as well as the activation, optimizer, and loss functions that are used to train the model."
   ]
  },
  {
   "cell_type": "code",
   "execution_count": 8,
   "metadata": {},
   "outputs": [],
   "source": [
    "def build_model(maze):\n",
    "    model = Sequential()\n",
    "    model.add(Dense(maze.size, input_shape=(maze.size,)))\n",
    "    model.add(PReLU())\n",
    "    model.add(Dense(maze.size))\n",
    "    model.add(PReLU())\n",
    "    model.add(Dense(num_actions))\n",
    "    model.compile(optimizer='adam', loss='mse')\n",
    "    return model"
   ]
  },
  {
   "cell_type": "markdown",
   "metadata": {},
   "source": [
    "# #TODO: Complete the Q-Training Algorithm Code Block\n",
    "\n",
    "This is your deep Q-learning implementation. The goal of your deep Q-learning implementation is to find the best possible navigation sequence that results in reaching the treasure cell while maximizing the reward. In your implementation, you need to determine the optimal number of epochs to achieve a 100% win rate.\n",
    "\n",
    "You will need to complete the section starting with #pseudocode. The pseudocode has been included for you."
   ]
  },
  {
   "cell_type": "code",
   "execution_count": 9,
   "metadata": {},
   "outputs": [],
   "source": [
    "def qtrain(model, maze, **opt):\n",
    "\n",
    "    # exploration factor\n",
    "    global epsilon \n",
    "\n",
    "    # number of epochs\n",
    "    n_epoch = opt.get('n_epoch', 15000)\n",
    "\n",
    "    # maximum memory to store episodes\n",
    "    max_memory = opt.get('max_memory', 1000)\n",
    "\n",
    "    # maximum data size for training\n",
    "    data_size = opt.get('data_size', 50)\n",
    "\n",
    "    # start time\n",
    "    start_time = datetime.datetime.now()\n",
    "\n",
    "    # Construct environment/game from numpy array: maze (see above)\n",
    "    qmaze = TreasureMaze(maze)\n",
    "\n",
    "    # Initialize experience replay object\n",
    "    experience = GameExperience(model, max_memory=max_memory)\n",
    "    \n",
    "    win_history = []   # history of win/lose game\n",
    "    hsize = qmaze.maze.size//2   # history window size\n",
    "    win_rate = 0.0\n",
    "        \n",
    "    # pseudocode:\n",
    "    # For each epoch:\n",
    "    #    Agent_cell = randomly select a free cell\n",
    "    #    Reset the maze with agent set to above position\n",
    "    #    Hint: Review the reset method in the TreasureMaze.py class.\n",
    "    #    envstate = Environment.current_state\n",
    "    #    Hint: Review the observe method in the TreasureMaze.py class.\n",
    "    #    While state is not game over:\n",
    "    #        previous_envstate = envstate\n",
    "    #        Action = randomly choose action (left, right, up, down) either by exploration or by exploitation\n",
    "    #        envstate, reward, game_status = qmaze.act(action)\n",
    "    #    Hint: Review the act method in the TreasureMaze.py class.\n",
    "    #        episode = [previous_envstate, action, reward, envstate, game_status]\n",
    "    #        Store episode in Experience replay object\n",
    "    #    Hint: Review the remember method in the GameExperience.py class.\n",
    "    #        Train neural network model and evaluate loss\n",
    "    #    Hint: Call GameExperience.get_data to retrieve training data (input and target) and pass to model.fit method \n",
    "    #          to train the model. You can call model.evaluate to determine loss.\n",
    "    #    If the win rate is above the threshold and your model passes the completion check, that would be your epoch.\n",
    "    \n",
    "    #variables\n",
    "    n_episodes = 0\n",
    "    EXPLORATION_MAX = 1.0  \n",
    "    EXPLORATION_MIN = 0.05  \n",
    "    EXPLORATION_DECAY = 0.99 \n",
    "    \n",
    "    #start with max exploration\n",
    "    exploration_rate = epsilon\n",
    "    # create loop for all epochs\n",
    "    for epoch in range(n_epoch):       #the number of repeats needed for the batches to equal the epochs\n",
    "        agent_cell = random.choice(qmaze.free_cells)  #obtains random free cell for agent placement\n",
    "        qmaze.reset(agent_cell)   # creates a maze with agent placed randomly\n",
    "        envstate = qmaze.observe()   #observes the state of the maze\n",
    "        game_over = False    #boolean for loop for episodes\n",
    "        random_acts = []    #testing array so I could see how many acts were random\n",
    "        predicted_acts = []    #testing array so I could see how many acts were predicted\n",
    "        #loop for individual epochs\n",
    "        while game_over is False:\n",
    "            valid_actions = qmaze.valid_actions()   #obtains list of valid actions\n",
    "            previous_envstate = envstate     #sets variable previous state to current state prior to action\n",
    "            action = random.choice(valid_actions)    #chooses an action to perform on the environment\n",
    "            #if/else block to determine when to act according to memory and when to act according to random action\n",
    "            if np.random.rand() < exploration_rate:\n",
    "                envstate, reward, game_status = qmaze.act(action)    #preforms action\n",
    "                random_acts.append(1)\n",
    "            else:\n",
    "                q = model.predict(previous_envstate)\n",
    "                action = np.argmax(q[0])\n",
    "                envstate, reward, game_status = qmaze.act(action)    #preforms action\n",
    "                predicted_acts.append(1)\n",
    "            #end action determination\n",
    "            episode = [previous_envstate, action, reward, envstate, game_status]\n",
    "            n_episodes += 1\n",
    "            experience.remember(episode)\n",
    "            #this method should obtain the inputs and targets from the experience\n",
    "            inputs, targets = experience.get_data(data_size=data_size)\n",
    "            #creates a history\n",
    "            history = model.fit(inputs, targets, epochs=8, batch_size=16, verbose=0)\n",
    "            #obtains the loss\n",
    "            loss = model.evaluate(inputs, targets, verbose=0)\n",
    "            #handling for game win\n",
    "            if game_status == \"win\":\n",
    "                win_history.append(1)\n",
    "                show(qmaze)\n",
    "                print(\"RAND:\" + str(sum(random_acts)))\n",
    "                print(\"PRED: \" + str(sum(predicted_acts)))\n",
    "                game_over = True\n",
    "            #handling for game loss\n",
    "            elif game_status == \"lose\":\n",
    "                win_history.append(0)\n",
    "                show(qmaze)\n",
    "                print(\"RAND: \" + str(sum(random_acts)))\n",
    "                print(\"PRED: \" + str(sum(predicted_acts)))\n",
    "                game_over = True\n",
    "            #handling for game not over\n",
    "            else:\n",
    "                game_over = False\n",
    "        epoch += 1\n",
    "        #decay for the exploration rate to decrease exploration over time\n",
    "        if exploration_rate > EXPLORATION_MIN:\n",
    "            exploration_rate *= EXPLORATION_DECAY\n",
    "        #calculate win rae\n",
    "        if len(win_history) > hsize:\n",
    "            win_rate = sum(win_history[-hsize:])/hsize\n",
    "    #Print the epoch, loss, episodes, win count, and win rate for each epoch\n",
    "        dt = datetime.datetime.now() - start_time\n",
    "        t = format_time(dt.total_seconds())\n",
    "        template = \"Epoch: {:03d}/{:d} | Loss: {:.4f} | Episodes: {:d} | Win count: {:d} | Win rate: {:.3f} | time: {}\"\n",
    "        print(template.format(epoch, n_epoch-1, loss, n_episodes, sum(win_history), win_rate, t))\n",
    "        # We simply check if training has exhausted all free cells and if in all\n",
    "        # cases the agent won.\n",
    "        if win_rate > 0.9 : epsilon = 0.05\n",
    "        if sum(win_history[-hsize:]) == hsize and completion_check(model, qmaze):\n",
    "            print(\"Reached 100%% win rate at epoch: %d\" % (epoch,))\n",
    "            break\n",
    "    \n",
    "    \n",
    "    # Determine the total time for training\n",
    "    dt = datetime.datetime.now() - start_time\n",
    "    seconds = dt.total_seconds()\n",
    "    t = format_time(seconds)\n",
    "\n",
    "    print(\"n_epoch: %d, max_mem: %d, data: %d, time: %s\" % (epoch, max_memory, data_size, t))\n",
    "    return seconds\n",
    "\n",
    "# This is a small utility for printing readable time strings:\n",
    "def format_time(seconds):\n",
    "    if seconds < 400:\n",
    "        s = float(seconds)\n",
    "        return \"%.1f seconds\" % (s,)\n",
    "    elif seconds < 4000:\n",
    "        m = seconds / 60.0\n",
    "        return \"%.2f minutes\" % (m,)\n",
    "    else:\n",
    "        h = seconds / 3600.0\n",
    "        return \"%.2f hours\" % (h,)"
   ]
  },
  {
   "cell_type": "markdown",
   "metadata": {},
   "source": [
    "## Test Your Model\n",
    "\n",
    "Now we will start testing the deep Q-learning implementation. To begin, select **Cell**, then **Run All** from the menu bar. This will run your notebook. As it runs, you should see output begin to appear beneath the next few cells. The code below creates an instance of TreasureMaze."
   ]
  },
  {
   "cell_type": "code",
   "execution_count": 10,
   "metadata": {},
   "outputs": [
    {
     "data": {
      "text/plain": [
       "<matplotlib.image.AxesImage at 0x27dde82e748>"
      ]
     },
     "execution_count": 10,
     "metadata": {},
     "output_type": "execute_result"
    },
    {
     "data": {
      "image/png": "[encoded data removed]",
      "text/plain": [
       "<Figure size 432x288 with 1 Axes>"
      ]
     },
     "metadata": {
      "needs_background": "light"
     },
     "output_type": "display_data"
    }
   ],
   "source": [
    "qmaze = TreasureMaze(maze)\n",
    "show(qmaze)"
   ]
  },
  {
   "cell_type": "markdown",
   "metadata": {},
   "source": [
    "In the next code block, you will build your model and train it using deep Q-learning. Note: This step takes several minutes to fully run."
   ]
  },
  {
   "cell_type": "code",
   "execution_count": 11,
   "metadata": {},
   "outputs": [
    {
     "name": "stdout",
     "output_type": "stream",
     "text": [
      "RAND:4\n",
      "PRED: 18\n",
      "Epoch: 001/14999 | Loss: 0.0201 | Episodes: 22 | Win count: 1 | Win rate: 0.000 | time: 3.2 seconds\n",
      "RAND: 30\n",
      "PRED: 107\n",
      "Epoch: 002/14999 | Loss: 0.0004 | Episodes: 159 | Win count: 1 | Win rate: 0.000 | time: 26.9 seconds\n",
      "RAND: 28\n",
      "PRED: 115\n",
      "Epoch: 003/14999 | Loss: 0.0006 | Episodes: 302 | Win count: 1 | Win rate: 0.000 | time: 53.4 seconds\n",
      "RAND:0\n",
      "PRED: 3\n",
      "Epoch: 004/14999 | Loss: 0.0009 | Episodes: 305 | Win count: 2 | Win rate: 0.000 | time: 54.0 seconds\n",
      "RAND: 33\n",
      "PRED: 105\n",
      "Epoch: 005/14999 | Loss: 0.0007 | Episodes: 443 | Win count: 2 | Win rate: 0.000 | time: 78.0 seconds\n",
      "RAND: 32\n",
      "PRED: 116\n",
      "Epoch: 006/14999 | Loss: 0.0009 | Episodes: 591 | Win count: 2 | Win rate: 0.000 | time: 103.6 seconds\n",
      "RAND:0\n",
      "PRED: 4\n",
      "Epoch: 007/14999 | Loss: 0.0008 | Episodes: 595 | Win count: 3 | Win rate: 0.000 | time: 104.3 seconds\n",
      "RAND:7\n",
      "PRED: 11\n",
      "Epoch: 008/14999 | Loss: 0.0009 | Episodes: 613 | Win count: 4 | Win rate: 0.000 | time: 107.4 seconds\n",
      "RAND:3\n",
      "PRED: 28\n",
      "Epoch: 009/14999 | Loss: 0.0009 | Episodes: 644 | Win count: 5 | Win rate: 0.000 | time: 112.9 seconds\n",
      "RAND:2\n",
      "PRED: 10\n",
      "Epoch: 010/14999 | Loss: 0.0008 | Episodes: 656 | Win count: 6 | Win rate: 0.000 | time: 115.1 seconds\n",
      "RAND:1\n",
      "PRED: 13\n",
      "Epoch: 011/14999 | Loss: 0.0007 | Episodes: 670 | Win count: 7 | Win rate: 0.000 | time: 117.8 seconds\n",
      "RAND:0\n",
      "PRED: 8\n",
      "Epoch: 012/14999 | Loss: 0.0011 | Episodes: 678 | Win count: 8 | Win rate: 0.000 | time: 119.1 seconds\n",
      "RAND: 20\n",
      "PRED: 122\n",
      "Epoch: 013/14999 | Loss: 0.0007 | Episodes: 820 | Win count: 8 | Win rate: 0.000 | time: 145.0 seconds\n",
      "RAND:0\n",
      "PRED: 1\n",
      "Epoch: 014/14999 | Loss: 0.0006 | Episodes: 821 | Win count: 9 | Win rate: 0.000 | time: 145.3 seconds\n",
      "RAND: 27\n",
      "PRED: 112\n",
      "Epoch: 015/14999 | Loss: 0.0002 | Episodes: 960 | Win count: 9 | Win rate: 0.000 | time: 171.9 seconds\n",
      "RAND:9\n",
      "PRED: 41\n",
      "Epoch: 016/14999 | Loss: 0.0016 | Episodes: 1010 | Win count: 10 | Win rate: 0.000 | time: 180.8 seconds\n",
      "RAND:7\n",
      "PRED: 10\n",
      "Epoch: 017/14999 | Loss: 0.0010 | Episodes: 1027 | Win count: 11 | Win rate: 0.000 | time: 183.8 seconds\n",
      "RAND:17\n",
      "PRED: 67\n",
      "Epoch: 018/14999 | Loss: 0.0016 | Episodes: 1111 | Win count: 12 | Win rate: 0.000 | time: 199.5 seconds\n",
      "RAND:19\n",
      "PRED: 123\n",
      "Epoch: 019/14999 | Loss: 0.0011 | Episodes: 1253 | Win count: 13 | Win rate: 0.000 | time: 226.9 seconds\n",
      "RAND:1\n",
      "PRED: 9\n",
      "Epoch: 020/14999 | Loss: 0.0010 | Episodes: 1263 | Win count: 14 | Win rate: 0.000 | time: 228.7 seconds\n",
      "RAND:2\n",
      "PRED: 4\n",
      "Epoch: 021/14999 | Loss: 0.0008 | Episodes: 1269 | Win count: 15 | Win rate: 0.000 | time: 229.6 seconds\n",
      "RAND:7\n",
      "PRED: 28\n",
      "Epoch: 022/14999 | Loss: 0.0009 | Episodes: 1304 | Win count: 16 | Win rate: 0.000 | time: 235.9 seconds\n",
      "RAND:0\n",
      "PRED: 7\n",
      "Epoch: 023/14999 | Loss: 0.0008 | Episodes: 1311 | Win count: 17 | Win rate: 0.000 | time: 237.3 seconds\n",
      "RAND:4\n",
      "PRED: 22\n",
      "Epoch: 024/14999 | Loss: 0.0011 | Episodes: 1337 | Win count: 18 | Win rate: 0.000 | time: 242.0 seconds\n",
      "RAND:12\n",
      "PRED: 63\n",
      "Epoch: 025/14999 | Loss: 0.0016 | Episodes: 1412 | Win count: 19 | Win rate: 0.000 | time: 255.2 seconds\n",
      "RAND:6\n",
      "PRED: 21\n",
      "Epoch: 026/14999 | Loss: 0.0007 | Episodes: 1439 | Win count: 20 | Win rate: 0.000 | time: 260.0 seconds\n",
      "RAND:5\n",
      "PRED: 21\n",
      "Epoch: 027/14999 | Loss: 0.0013 | Episodes: 1465 | Win count: 21 | Win rate: 0.000 | time: 264.7 seconds\n",
      "RAND:6\n",
      "PRED: 40\n",
      "Epoch: 028/14999 | Loss: 0.0009 | Episodes: 1511 | Win count: 22 | Win rate: 0.000 | time: 272.9 seconds\n",
      "RAND:3\n",
      "PRED: 15\n",
      "Epoch: 029/14999 | Loss: 0.0007 | Episodes: 1529 | Win count: 23 | Win rate: 0.000 | time: 276.0 seconds\n",
      "RAND:1\n",
      "PRED: 17\n",
      "Epoch: 030/14999 | Loss: 0.0002 | Episodes: 1547 | Win count: 24 | Win rate: 0.000 | time: 279.0 seconds\n",
      "RAND:2\n",
      "PRED: 21\n",
      "Epoch: 031/14999 | Loss: 0.0009 | Episodes: 1570 | Win count: 25 | Win rate: 0.000 | time: 283.3 seconds\n",
      "RAND:7\n",
      "PRED: 21\n",
      "Epoch: 032/14999 | Loss: 0.0010 | Episodes: 1598 | Win count: 26 | Win rate: 0.000 | time: 288.0 seconds\n",
      "RAND:0\n",
      "PRED: 8\n",
      "Epoch: 033/14999 | Loss: 0.0009 | Episodes: 1606 | Win count: 27 | Win rate: 0.812 | time: 289.7 seconds\n",
      "RAND:8\n",
      "PRED: 33\n",
      "Epoch: 034/14999 | Loss: 0.0010 | Episodes: 1647 | Win count: 28 | Win rate: 0.844 | time: 297.0 seconds\n",
      "RAND:1\n",
      "PRED: 5\n",
      "Epoch: 035/14999 | Loss: 0.0007 | Episodes: 1653 | Win count: 29 | Win rate: 0.875 | time: 298.1 seconds\n",
      "RAND:5\n",
      "PRED: 18\n",
      "Epoch: 036/14999 | Loss: 0.0007 | Episodes: 1676 | Win count: 30 | Win rate: 0.875 | time: 301.9 seconds\n",
      "RAND:4\n",
      "PRED: 35\n",
      "Epoch: 037/14999 | Loss: 0.0013 | Episodes: 1715 | Win count: 31 | Win rate: 0.906 | time: 309.0 seconds\n",
      "RAND:2\n",
      "PRED: 9\n",
      "Epoch: 038/14999 | Loss: 0.0007 | Episodes: 1726 | Win count: 32 | Win rate: 0.938 | time: 311.4 seconds\n",
      "RAND:6\n",
      "PRED: 40\n",
      "Epoch: 039/14999 | Loss: 0.0009 | Episodes: 1772 | Win count: 33 | Win rate: 0.938 | time: 319.4 seconds\n",
      "RAND:9\n",
      "PRED: 49\n",
      "Epoch: 040/14999 | Loss: 0.0009 | Episodes: 1830 | Win count: 34 | Win rate: 0.938 | time: 330.6 seconds\n",
      "RAND:1\n",
      "PRED: 17\n",
      "Epoch: 041/14999 | Loss: 0.0014 | Episodes: 1848 | Win count: 35 | Win rate: 0.938 | time: 333.6 seconds\n",
      "RAND:0\n",
      "PRED: 4\n",
      "Epoch: 042/14999 | Loss: 0.0008 | Episodes: 1852 | Win count: 36 | Win rate: 0.938 | time: 334.4 seconds\n",
      "RAND:10\n",
      "PRED: 28\n",
      "Epoch: 043/14999 | Loss: 0.0008 | Episodes: 1890 | Win count: 37 | Win rate: 0.938 | time: 342.1 seconds\n",
      "RAND:3\n",
      "PRED: 12\n",
      "Epoch: 044/14999 | Loss: 0.0006 | Episodes: 1905 | Win count: 38 | Win rate: 0.938 | time: 344.7 seconds\n",
      "RAND:5\n",
      "PRED: 24\n",
      "Epoch: 045/14999 | Loss: 0.0012 | Episodes: 1934 | Win count: 39 | Win rate: 0.969 | time: 349.7 seconds\n",
      "RAND:1\n",
      "PRED: 24\n",
      "Epoch: 046/14999 | Loss: 0.0017 | Episodes: 1959 | Win count: 40 | Win rate: 0.969 | time: 354.0 seconds\n",
      "RAND:6\n",
      "PRED: 59\n",
      "Epoch: 047/14999 | Loss: 0.0011 | Episodes: 2024 | Win count: 41 | Win rate: 1.000 | time: 366.4 seconds\n",
      "RAND:8\n",
      "PRED: 45\n",
      "Epoch: 048/14999 | Loss: 0.0009 | Episodes: 2077 | Win count: 42 | Win rate: 1.000 | time: 376.1 seconds\n",
      "RAND:2\n",
      "PRED: 10\n",
      "Epoch: 049/14999 | Loss: 0.0012 | Episodes: 2089 | Win count: 43 | Win rate: 1.000 | time: 378.7 seconds\n",
      "RAND:3\n",
      "PRED: 35\n",
      "Epoch: 050/14999 | Loss: 0.0018 | Episodes: 2127 | Win count: 44 | Win rate: 1.000 | time: 385.9 seconds\n",
      "RAND:4\n",
      "PRED: 36\n",
      "Epoch: 051/14999 | Loss: 0.0018 | Episodes: 2167 | Win count: 45 | Win rate: 1.000 | time: 393.9 seconds\n",
      "RAND:4\n",
      "PRED: 20\n",
      "Epoch: 052/14999 | Loss: 0.0011 | Episodes: 2191 | Win count: 46 | Win rate: 1.000 | time: 398.8 seconds\n",
      "RAND:5\n",
      "PRED: 31\n",
      "Epoch: 053/14999 | Loss: 0.0014 | Episodes: 2227 | Win count: 47 | Win rate: 1.000 | time: 6.76 minutes\n",
      "RAND:1\n",
      "PRED: 14\n",
      "Epoch: 054/14999 | Loss: 0.0010 | Episodes: 2242 | Win count: 48 | Win rate: 1.000 | time: 6.81 minutes\n",
      "RAND:4\n",
      "PRED: 42\n",
      "Epoch: 055/14999 | Loss: 0.0012 | Episodes: 2288 | Win count: 49 | Win rate: 1.000 | time: 6.95 minutes\n",
      "RAND:4\n",
      "PRED: 21\n",
      "Epoch: 056/14999 | Loss: 0.0010 | Episodes: 2313 | Win count: 50 | Win rate: 1.000 | time: 7.03 minutes\n",
      "RAND:4\n",
      "PRED: 42\n",
      "Epoch: 057/14999 | Loss: 0.0009 | Episodes: 2359 | Win count: 51 | Win rate: 1.000 | time: 7.18 minutes\n",
      "RAND:3\n",
      "PRED: 38\n",
      "Epoch: 058/14999 | Loss: 0.0020 | Episodes: 2400 | Win count: 52 | Win rate: 1.000 | time: 7.30 minutes\n",
      "RAND:2\n",
      "PRED: 8\n",
      "Epoch: 059/14999 | Loss: 0.0012 | Episodes: 2410 | Win count: 53 | Win rate: 1.000 | time: 7.33 minutes\n",
      "RAND:0\n",
      "PRED: 3\n",
      "Epoch: 060/14999 | Loss: 0.0007 | Episodes: 2413 | Win count: 54 | Win rate: 1.000 | time: 7.34 minutes\n",
      "RAND:5\n",
      "PRED: 16\n",
      "Epoch: 061/14999 | Loss: 0.0010 | Episodes: 2434 | Win count: 55 | Win rate: 1.000 | time: 7.42 minutes\n",
      "RAND:1\n",
      "PRED: 27\n",
      "Epoch: 062/14999 | Loss: 0.0011 | Episodes: 2462 | Win count: 56 | Win rate: 1.000 | time: 7.51 minutes\n",
      "RAND:0\n",
      "PRED: 2\n",
      "Epoch: 063/14999 | Loss: 0.0011 | Episodes: 2464 | Win count: 57 | Win rate: 1.000 | time: 7.52 minutes\n",
      "RAND:5\n",
      "PRED: 23\n",
      "Epoch: 064/14999 | Loss: 0.0005 | Episodes: 2492 | Win count: 58 | Win rate: 1.000 | time: 7.61 minutes\n",
      "RAND:6\n",
      "PRED: 12\n",
      "Epoch: 065/14999 | Loss: 0.0011 | Episodes: 2510 | Win count: 59 | Win rate: 1.000 | time: 7.68 minutes\n",
      "RAND:6\n",
      "PRED: 20\n",
      "Epoch: 066/14999 | Loss: 0.0017 | Episodes: 2536 | Win count: 60 | Win rate: 1.000 | time: 7.76 minutes\n",
      "RAND:2\n",
      "PRED: 5\n",
      "Epoch: 067/14999 | Loss: 0.0009 | Episodes: 2543 | Win count: 61 | Win rate: 1.000 | time: 7.78 minutes\n",
      "RAND:3\n",
      "PRED: 36\n",
      "Epoch: 068/14999 | Loss: 0.0009 | Episodes: 2582 | Win count: 62 | Win rate: 1.000 | time: 7.91 minutes\n",
      "RAND:8\n",
      "PRED: 45\n",
      "Epoch: 069/14999 | Loss: 0.0007 | Episodes: 2635 | Win count: 63 | Win rate: 1.000 | time: 8.07 minutes\n"
     ]
    },
    {
     "name": "stdout",
     "output_type": "stream",
     "text": [
      "RAND:3\n",
      "PRED: 22\n",
      "Epoch: 070/14999 | Loss: 0.0011 | Episodes: 2660 | Win count: 64 | Win rate: 1.000 | time: 8.15 minutes\n",
      "RAND:5\n",
      "PRED: 29\n",
      "Epoch: 071/14999 | Loss: 0.0009 | Episodes: 2694 | Win count: 65 | Win rate: 1.000 | time: 8.25 minutes\n",
      "RAND:0\n",
      "PRED: 6\n",
      "Epoch: 072/14999 | Loss: 0.0008 | Episodes: 2700 | Win count: 66 | Win rate: 1.000 | time: 8.28 minutes\n",
      "RAND:3\n",
      "PRED: 25\n",
      "Epoch: 073/14999 | Loss: 0.0012 | Episodes: 2728 | Win count: 67 | Win rate: 1.000 | time: 8.37 minutes\n",
      "RAND:2\n",
      "PRED: 41\n",
      "Epoch: 074/14999 | Loss: 0.0010 | Episodes: 2771 | Win count: 68 | Win rate: 1.000 | time: 8.52 minutes\n",
      "RAND:2\n",
      "PRED: 28\n",
      "Epoch: 075/14999 | Loss: 0.0014 | Episodes: 2801 | Win count: 69 | Win rate: 1.000 | time: 8.62 minutes\n",
      "RAND:3\n",
      "PRED: 30\n",
      "Epoch: 076/14999 | Loss: 0.0009 | Episodes: 2834 | Win count: 70 | Win rate: 1.000 | time: 8.73 minutes\n",
      "RAND:4\n",
      "PRED: 33\n",
      "Epoch: 077/14999 | Loss: 0.0009 | Episodes: 2871 | Win count: 71 | Win rate: 1.000 | time: 8.84 minutes\n",
      "RAND:3\n",
      "PRED: 28\n",
      "Epoch: 078/14999 | Loss: 0.0006 | Episodes: 2902 | Win count: 72 | Win rate: 1.000 | time: 8.94 minutes\n",
      "RAND:2\n",
      "PRED: 29\n",
      "Epoch: 079/14999 | Loss: 0.0007 | Episodes: 2933 | Win count: 73 | Win rate: 1.000 | time: 9.05 minutes\n",
      "RAND:2\n",
      "PRED: 28\n",
      "Epoch: 080/14999 | Loss: 0.0008 | Episodes: 2963 | Win count: 74 | Win rate: 1.000 | time: 9.15 minutes\n",
      "RAND:2\n",
      "PRED: 26\n",
      "Epoch: 081/14999 | Loss: 0.0014 | Episodes: 2991 | Win count: 75 | Win rate: 1.000 | time: 9.24 minutes\n",
      "RAND:0\n",
      "PRED: 5\n",
      "Epoch: 082/14999 | Loss: 0.0010 | Episodes: 2996 | Win count: 76 | Win rate: 1.000 | time: 9.25 minutes\n",
      "RAND:1\n",
      "PRED: 3\n",
      "Epoch: 083/14999 | Loss: 0.0012 | Episodes: 3000 | Win count: 77 | Win rate: 1.000 | time: 9.27 minutes\n",
      "RAND:2\n",
      "PRED: 26\n",
      "Epoch: 084/14999 | Loss: 0.0009 | Episodes: 3028 | Win count: 78 | Win rate: 1.000 | time: 9.36 minutes\n",
      "RAND:3\n",
      "PRED: 25\n",
      "Epoch: 085/14999 | Loss: 0.0006 | Episodes: 3056 | Win count: 79 | Win rate: 1.000 | time: 9.45 minutes\n",
      "RAND:0\n",
      "PRED: 1\n",
      "Epoch: 086/14999 | Loss: 0.0006 | Episodes: 3057 | Win count: 80 | Win rate: 1.000 | time: 9.46 minutes\n",
      "RAND:1\n",
      "PRED: 31\n",
      "Epoch: 087/14999 | Loss: 0.0013 | Episodes: 3089 | Win count: 81 | Win rate: 1.000 | time: 9.57 minutes\n",
      "RAND:1\n",
      "PRED: 8\n",
      "Epoch: 088/14999 | Loss: 0.0007 | Episodes: 3098 | Win count: 82 | Win rate: 1.000 | time: 9.62 minutes\n",
      "RAND:1\n",
      "PRED: 24\n",
      "Epoch: 089/14999 | Loss: 0.0008 | Episodes: 3123 | Win count: 83 | Win rate: 1.000 | time: 9.70 minutes\n",
      "RAND:1\n",
      "PRED: 40\n",
      "Epoch: 090/14999 | Loss: 0.0007 | Episodes: 3164 | Win count: 84 | Win rate: 1.000 | time: 9.84 minutes\n",
      "RAND:1\n",
      "PRED: 14\n",
      "Epoch: 091/14999 | Loss: 0.0007 | Episodes: 3179 | Win count: 85 | Win rate: 1.000 | time: 9.88 minutes\n",
      "RAND:0\n",
      "PRED: 19\n",
      "Epoch: 092/14999 | Loss: 0.0009 | Episodes: 3198 | Win count: 86 | Win rate: 1.000 | time: 9.94 minutes\n",
      "RAND:1\n",
      "PRED: 4\n",
      "Epoch: 093/14999 | Loss: 0.0006 | Episodes: 3203 | Win count: 87 | Win rate: 1.000 | time: 9.96 minutes\n",
      "RAND:4\n",
      "PRED: 46\n",
      "Epoch: 094/14999 | Loss: 0.0009 | Episodes: 3253 | Win count: 88 | Win rate: 1.000 | time: 10.12 minutes\n",
      "RAND:0\n",
      "PRED: 24\n",
      "Epoch: 095/14999 | Loss: 0.0008 | Episodes: 3277 | Win count: 89 | Win rate: 1.000 | time: 10.20 minutes\n",
      "RAND:2\n",
      "PRED: 29\n",
      "Epoch: 096/14999 | Loss: 0.0015 | Episodes: 3308 | Win count: 90 | Win rate: 1.000 | time: 10.29 minutes\n",
      "RAND:1\n",
      "PRED: 24\n",
      "Epoch: 097/14999 | Loss: 0.0007 | Episodes: 3333 | Win count: 91 | Win rate: 1.000 | time: 10.38 minutes\n",
      "RAND:1\n",
      "PRED: 32\n",
      "Epoch: 098/14999 | Loss: 0.0007 | Episodes: 3366 | Win count: 92 | Win rate: 1.000 | time: 10.48 minutes\n",
      "RAND:2\n",
      "PRED: 27\n",
      "Epoch: 099/14999 | Loss: 0.0012 | Episodes: 3395 | Win count: 93 | Win rate: 1.000 | time: 10.57 minutes\n",
      "RAND:2\n",
      "PRED: 18\n",
      "Epoch: 100/14999 | Loss: 0.0011 | Episodes: 3415 | Win count: 94 | Win rate: 1.000 | time: 10.63 minutes\n",
      "RAND:2\n",
      "PRED: 13\n",
      "Epoch: 101/14999 | Loss: 0.0005 | Episodes: 3430 | Win count: 95 | Win rate: 1.000 | time: 10.69 minutes\n",
      "RAND:3\n",
      "PRED: 28\n",
      "Epoch: 102/14999 | Loss: 0.0007 | Episodes: 3461 | Win count: 96 | Win rate: 1.000 | time: 10.79 minutes\n",
      "RAND:2\n",
      "PRED: 19\n",
      "Epoch: 103/14999 | Loss: 0.0007 | Episodes: 3482 | Win count: 97 | Win rate: 1.000 | time: 10.85 minutes\n",
      "RAND:2\n",
      "PRED: 17\n",
      "Epoch: 104/14999 | Loss: 0.0007 | Episodes: 3501 | Win count: 98 | Win rate: 1.000 | time: 10.92 minutes\n",
      "RAND:3\n",
      "PRED: 34\n",
      "Epoch: 105/14999 | Loss: 0.0009 | Episodes: 3538 | Win count: 99 | Win rate: 1.000 | time: 11.03 minutes\n",
      "RAND:0\n",
      "PRED: 4\n",
      "Epoch: 106/14999 | Loss: 0.0002 | Episodes: 3542 | Win count: 100 | Win rate: 1.000 | time: 11.05 minutes\n",
      "RAND:0\n",
      "PRED: 20\n",
      "Epoch: 107/14999 | Loss: 0.0005 | Episodes: 3562 | Win count: 101 | Win rate: 1.000 | time: 11.11 minutes\n",
      "RAND:3\n",
      "PRED: 8\n",
      "Epoch: 108/14999 | Loss: 0.0007 | Episodes: 3573 | Win count: 102 | Win rate: 1.000 | time: 11.15 minutes\n",
      "RAND:5\n",
      "PRED: 24\n",
      "Epoch: 109/14999 | Loss: 0.0003 | Episodes: 3602 | Win count: 103 | Win rate: 1.000 | time: 11.23 minutes\n",
      "RAND:0\n",
      "PRED: 8\n",
      "Epoch: 110/14999 | Loss: 0.0010 | Episodes: 3610 | Win count: 104 | Win rate: 1.000 | time: 11.25 minutes\n",
      "RAND:2\n",
      "PRED: 27\n",
      "Epoch: 111/14999 | Loss: 0.0003 | Episodes: 3639 | Win count: 105 | Win rate: 1.000 | time: 11.34 minutes\n",
      "RAND:1\n",
      "PRED: 29\n",
      "Epoch: 112/14999 | Loss: 0.0007 | Episodes: 3669 | Win count: 106 | Win rate: 1.000 | time: 11.43 minutes\n",
      "RAND:1\n",
      "PRED: 13\n",
      "Epoch: 113/14999 | Loss: 0.0003 | Episodes: 3683 | Win count: 107 | Win rate: 1.000 | time: 11.48 minutes\n",
      "RAND:0\n",
      "PRED: 24\n",
      "Epoch: 114/14999 | Loss: 0.0008 | Episodes: 3707 | Win count: 108 | Win rate: 1.000 | time: 11.55 minutes\n",
      "RAND:0\n",
      "PRED: 5\n",
      "Epoch: 115/14999 | Loss: 0.0004 | Episodes: 3712 | Win count: 109 | Win rate: 1.000 | time: 11.58 minutes\n",
      "RAND:0\n",
      "PRED: 2\n",
      "Epoch: 116/14999 | Loss: 0.0001 | Episodes: 3714 | Win count: 110 | Win rate: 1.000 | time: 11.59 minutes\n",
      "RAND:0\n",
      "PRED: 1\n",
      "Epoch: 117/14999 | Loss: 0.0004 | Episodes: 3715 | Win count: 111 | Win rate: 1.000 | time: 11.59 minutes\n",
      "RAND:0\n",
      "PRED: 18\n",
      "Epoch: 118/14999 | Loss: 0.0004 | Episodes: 3733 | Win count: 112 | Win rate: 1.000 | time: 11.66 minutes\n",
      "RAND:0\n",
      "PRED: 9\n",
      "Epoch: 119/14999 | Loss: 0.0006 | Episodes: 3742 | Win count: 113 | Win rate: 1.000 | time: 11.70 minutes\n",
      "RAND:1\n",
      "PRED: 27\n",
      "Epoch: 120/14999 | Loss: 0.0004 | Episodes: 3770 | Win count: 114 | Win rate: 1.000 | time: 11.78 minutes\n",
      "RAND:0\n",
      "PRED: 2\n",
      "Epoch: 121/14999 | Loss: 0.0004 | Episodes: 3772 | Win count: 115 | Win rate: 1.000 | time: 11.80 minutes\n",
      "RAND:0\n",
      "PRED: 6\n",
      "Epoch: 122/14999 | Loss: 0.0002 | Episodes: 3778 | Win count: 116 | Win rate: 1.000 | time: 11.83 minutes\n",
      "RAND:0\n",
      "PRED: 7\n",
      "Epoch: 123/14999 | Loss: 0.0010 | Episodes: 3785 | Win count: 117 | Win rate: 1.000 | time: 11.87 minutes\n",
      "RAND:0\n",
      "PRED: 10\n",
      "Epoch: 124/14999 | Loss: 0.0002 | Episodes: 3795 | Win count: 118 | Win rate: 1.000 | time: 11.90 minutes\n",
      "RAND:1\n",
      "PRED: 24\n",
      "Epoch: 125/14999 | Loss: 0.0008 | Episodes: 3820 | Win count: 119 | Win rate: 1.000 | time: 11.98 minutes\n",
      "RAND:1\n",
      "PRED: 17\n",
      "Epoch: 126/14999 | Loss: 0.0003 | Episodes: 3838 | Win count: 120 | Win rate: 1.000 | time: 12.05 minutes\n",
      "RAND:2\n",
      "PRED: 21\n",
      "Epoch: 127/14999 | Loss: 0.0004 | Episodes: 3861 | Win count: 121 | Win rate: 1.000 | time: 12.13 minutes\n",
      "RAND:1\n",
      "PRED: 18\n",
      "Epoch: 128/14999 | Loss: 0.0010 | Episodes: 3880 | Win count: 122 | Win rate: 1.000 | time: 12.18 minutes\n",
      "RAND:0\n",
      "PRED: 2\n",
      "Epoch: 129/14999 | Loss: 0.0005 | Episodes: 3882 | Win count: 123 | Win rate: 1.000 | time: 12.20 minutes\n",
      "RAND:0\n",
      "PRED: 12\n",
      "Epoch: 130/14999 | Loss: 0.0001 | Episodes: 3894 | Win count: 124 | Win rate: 1.000 | time: 12.24 minutes\n",
      "RAND:2\n",
      "PRED: 4\n",
      "Epoch: 131/14999 | Loss: 0.0001 | Episodes: 3900 | Win count: 125 | Win rate: 1.000 | time: 12.26 minutes\n",
      "RAND:1\n",
      "PRED: 20\n",
      "Epoch: 132/14999 | Loss: 0.0004 | Episodes: 3921 | Win count: 126 | Win rate: 1.000 | time: 12.33 minutes\n",
      "RAND:3\n",
      "PRED: 23\n",
      "Epoch: 133/14999 | Loss: 0.0002 | Episodes: 3947 | Win count: 127 | Win rate: 1.000 | time: 12.41 minutes\n",
      "RAND:0\n",
      "PRED: 1\n",
      "Epoch: 134/14999 | Loss: 0.0004 | Episodes: 3948 | Win count: 128 | Win rate: 1.000 | time: 12.42 minutes\n",
      "RAND:0\n",
      "PRED: 6\n",
      "Epoch: 135/14999 | Loss: 0.0002 | Episodes: 3954 | Win count: 129 | Win rate: 1.000 | time: 12.44 minutes\n",
      "RAND:2\n",
      "PRED: 18\n",
      "Epoch: 136/14999 | Loss: 0.0004 | Episodes: 3974 | Win count: 130 | Win rate: 1.000 | time: 12.50 minutes\n",
      "RAND:1\n",
      "PRED: 6\n",
      "Epoch: 137/14999 | Loss: 0.0006 | Episodes: 3981 | Win count: 131 | Win rate: 1.000 | time: 12.54 minutes\n"
     ]
    },
    {
     "name": "stdout",
     "output_type": "stream",
     "text": [
      "RAND:1\n",
      "PRED: 28\n",
      "Epoch: 138/14999 | Loss: 0.0002 | Episodes: 4010 | Win count: 132 | Win rate: 1.000 | time: 12.63 minutes\n",
      "RAND:0\n",
      "PRED: 8\n",
      "Epoch: 139/14999 | Loss: 0.0001 | Episodes: 4018 | Win count: 133 | Win rate: 1.000 | time: 12.66 minutes\n",
      "RAND:0\n",
      "PRED: 18\n",
      "Epoch: 140/14999 | Loss: 0.0001 | Episodes: 4036 | Win count: 134 | Win rate: 1.000 | time: 12.73 minutes\n",
      "RAND:1\n",
      "PRED: 9\n",
      "Epoch: 141/14999 | Loss: 0.0001 | Episodes: 4046 | Win count: 135 | Win rate: 1.000 | time: 12.77 minutes\n",
      "RAND:1\n",
      "PRED: 22\n",
      "Epoch: 142/14999 | Loss: 0.0006 | Episodes: 4069 | Win count: 136 | Win rate: 1.000 | time: 12.85 minutes\n",
      "RAND:4\n",
      "PRED: 46\n",
      "Epoch: 143/14999 | Loss: 0.0006 | Episodes: 4119 | Win count: 137 | Win rate: 1.000 | time: 13.02 minutes\n",
      "RAND:1\n",
      "PRED: 7\n",
      "Epoch: 144/14999 | Loss: 0.0005 | Episodes: 4127 | Win count: 138 | Win rate: 1.000 | time: 13.06 minutes\n",
      "RAND:3\n",
      "PRED: 10\n",
      "Epoch: 145/14999 | Loss: 0.0008 | Episodes: 4140 | Win count: 139 | Win rate: 1.000 | time: 13.11 minutes\n",
      "RAND:1\n",
      "PRED: 15\n",
      "Epoch: 146/14999 | Loss: 0.0001 | Episodes: 4156 | Win count: 140 | Win rate: 1.000 | time: 13.17 minutes\n",
      "RAND:2\n",
      "PRED: 63\n",
      "Epoch: 147/14999 | Loss: 0.0006 | Episodes: 4221 | Win count: 141 | Win rate: 1.000 | time: 13.37 minutes\n",
      "RAND:1\n",
      "PRED: 23\n",
      "Epoch: 148/14999 | Loss: 0.0007 | Episodes: 4245 | Win count: 142 | Win rate: 1.000 | time: 13.45 minutes\n",
      "RAND:0\n",
      "PRED: 4\n",
      "Epoch: 149/14999 | Loss: 0.0003 | Episodes: 4249 | Win count: 143 | Win rate: 1.000 | time: 13.48 minutes\n",
      "RAND:0\n",
      "PRED: 8\n",
      "Epoch: 150/14999 | Loss: 0.0008 | Episodes: 4257 | Win count: 144 | Win rate: 1.000 | time: 13.52 minutes\n",
      "RAND:0\n",
      "PRED: 23\n",
      "Epoch: 151/14999 | Loss: 0.0004 | Episodes: 4280 | Win count: 145 | Win rate: 1.000 | time: 13.61 minutes\n",
      "Reached 100% win rate at epoch: 151\n",
      "n_epoch: 151, max_mem: 512, data: 32, time: 13.62 minutes\n"
     ]
    },
    {
     "data": {
      "text/plain": [
       "817.421465"
      ]
     },
     "execution_count": 11,
     "metadata": {},
     "output_type": "execute_result"
    },
    {
     "data": {
      "image/png": "[encoded data removed]",
      "text/plain": [
       "<Figure size 432x288 with 1 Axes>"
      ]
     },
     "metadata": {
      "needs_background": "light"
     },
     "output_type": "display_data"
    }
   ],
   "source": [
    "model = build_model(maze)\n",
    "qtrain(model, maze, epochs=1000, max_memory=8*maze.size, data_size=32)"
   ]
  },
  {
   "cell_type": "markdown",
   "metadata": {},
   "source": [
    "This cell will check to see if the model passes the completion check. Note: This could take several minutes."
   ]
  },
  {
   "cell_type": "code",
   "execution_count": 12,
   "metadata": {},
   "outputs": [
    {
     "data": {
      "text/plain": [
       "<matplotlib.image.AxesImage at 0x27de5142f48>"
      ]
     },
     "execution_count": 12,
     "metadata": {},
     "output_type": "execute_result"
    },
    {
     "data": {
      "image/png": "[encoded data removed]",
      "text/plain": [
       "<Figure size 432x288 with 1 Axes>"
      ]
     },
     "metadata": {
      "needs_background": "light"
     },
     "output_type": "display_data"
    }
   ],
   "source": [
    "completion_check(model, qmaze)\n",
    "show(qmaze)"
   ]
  },
  {
   "cell_type": "markdown",
   "metadata": {},
   "source": [
    "This cell will test your model for one game. It will start the pirate at the top-left corner and run play_game. The agent should find a path from the starting position to the target (treasure). The treasure is located in the bottom-right corner."
   ]
  },
  {
   "cell_type": "code",
   "execution_count": 13,
   "metadata": {},
   "outputs": [
    {
     "data": {
      "text/plain": [
       "<matplotlib.image.AxesImage at 0x27de53c0648>"
      ]
     },
     "execution_count": 13,
     "metadata": {},
     "output_type": "execute_result"
    },
    {
     "data": {
      "image/png": "[encoded data removed]",
      "text/plain": [
       "<Figure size 432x288 with 1 Axes>"
      ]
     },
     "metadata": {
      "needs_background": "light"
     },
     "output_type": "display_data"
    }
   ],
   "source": [
    "pirate_start = (0, 0)\n",
    "play_game(model, qmaze, pirate_start)\n",
    "show(qmaze)"
   ]
  },
  {
   "cell_type": "markdown",
   "metadata": {},
   "source": [
    "## Save and Submit Your Work\n",
    "After you have finished creating the code for your notebook, save your work. Make sure that your notebook contains your name in the filename (e.g. Doe_Jane_ProjectTwo.ipynb). This will help your instructor access and grade your work easily. Download a copy of your IPYNB file and submit it to Brightspace. Refer to the Jupyter Notebook in Apporto Tutorial if you need help with these tasks."
   ]
  }
 ],
 "metadata": {
  "kernelspec": {
   "display_name": "Python 3",
   "language": "python",
   "name": "python3"
  },
  "language_info": {
   "codemirror_mode": {
    "name": "ipython",
    "version": 3
   },
   "file_extension": ".py",
   "mimetype": "text/x-python",
   "name": "python",
   "nbconvert_exporter": "python",
   "pygments_lexer": "ipython3",
   "version": "3.7.4"
  }
 },
 "nbformat": 4,
 "nbformat_minor": 2
}
